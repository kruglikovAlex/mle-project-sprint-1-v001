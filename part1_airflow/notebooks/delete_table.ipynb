{
 "cells": [
  {
   "cell_type": "code",
   "execution_count": null,
   "id": "2984c125",
   "metadata": {
    "vscode": {
     "languageId": "plaintext"
    }
   },
   "outputs": [],
   "source": [
    "# Перед запуском убедитесь, что в корне проекта есть файл .env и в нем заполнены выданные вам креды подключения к базам данных и хранилищу"
   ]
  },
  {
   "cell_type": "code",
   "execution_count": null,
   "id": "53799565",
   "metadata": {
    "vscode": {
     "languageId": "plaintext"
    }
   },
   "outputs": [],
   "source": [
    "%load_ext autoreload\n",
    "%autoreload 2"
   ]
  },
  {
   "cell_type": "code",
   "execution_count": null,
   "id": "3a382860",
   "metadata": {},
   "outputs": [],
   "source": [
    "import os\n",
    "import pandas as pd\n",
    "from dotenv import load_dotenv, find_dotenv\n",
    "from sqlalchemy import create_engine, MetaData, Table"
   ]
  },
  {
   "cell_type": "code",
   "execution_count": null,
   "id": "df723206",
   "metadata": {},
   "outputs": [],
   "source": [
    "# подгружаем .env\n",
    "load_dotenv()"
   ]
  },
  {
   "cell_type": "code",
   "execution_count": null,
   "id": "d00f485f",
   "metadata": {},
   "outputs": [],
   "source": [
    "# Считываем все креды\n",
    "src_host = os.environ.get('DB_SOURCE_HOST')\n",
    "src_port = os.environ.get('DB_SOURCE_PORT')\n",
    "src_username = os.environ.get('DB_SOURCE_USER')\n",
    "src_password = os.environ.get('DB_SOURCE_PASSWORD')\n",
    "src_db = os.environ.get('DB_SOURCE_NAME') \n",
    "\n",
    "dst_host = os.environ.get('DB_DESTINATION_HOST')\n",
    "dst_port = os.environ.get('DB_DESTINATION_PORT')\n",
    "dst_username = os.environ.get('DB_DESTINATION_USER')\n",
    "dst_password = os.environ.get('DB_DESTINATION_PASSWORD')\n",
    "dst_db = os.environ.get('DB_DESTINATION_NAME')\n",
    "\n",
    "s3_bucket = os.environ.get('S3_BUCKET_NAME')\n",
    "s3_access_key = os.environ.get('AWS_ACCESS_KEY_ID')\n",
    "s3_secret_access_key = os.environ.get('AWS_SECRET_ACCESS_KEY')"
   ]
  },
  {
   "cell_type": "code",
   "execution_count": null,
   "id": "5131001a",
   "metadata": {},
   "outputs": [],
   "source": [
    "# Создадим соединения\n",
    "src_conn = create_engine(f'postgresql://{src_username}:{src_password}@{src_host}:{src_port}/{src_db}')\n",
    "dst_conn = create_engine(f'postgresql://{dst_username}:{dst_password}@{dst_host}:{dst_port}/{dst_db}')"
   ]
  },
  {
   "cell_type": "code",
   "execution_count": null,
   "id": "914e7e20",
   "metadata": {},
   "outputs": [],
   "source": [
    "# Укажем таблицу для удаления\n",
    "TABLE_NAME = 'cost_estimate'"
   ]
  },
  {
   "cell_type": "code",
   "execution_count": null,
   "id": "165b06eb",
   "metadata": {},
   "outputs": [],
   "source": [
    "# Функция удаления таблицы с помощью sqlalchemy\n",
    "def delete_table(table_name, conn):\n",
    "    metadata = MetaData(bind=conn)\n",
    "    table = Table(table_name, metadata, autoload=True)\n",
    "    table.drop(conn)"
   ]
  },
  {
   "cell_type": "code",
   "execution_count": null,
   "id": "d294e913",
   "metadata": {},
   "outputs": [],
   "source": [
    "# Удалим таблицу\n",
    "delete_table(TABLE_NAME, dst_conn)"
   ]
  },
  {
   "cell_type": "code",
   "execution_count": null,
   "id": "5c003d9f",
   "metadata": {},
   "outputs": [],
   "source": [
    "# Проверим, что таблицы больше нет\n",
    "pd.read_sql(f'select * from {TABLE_NAME}', dst_conn)"
   ]
  },
  {
   "cell_type": "code",
   "execution_count": null,
   "id": "cb5214d8",
   "metadata": {},
   "outputs": [],
   "source": [
    "# Закроем соединения в конце работы\n",
    "src_conn.dispose()\n",
    "dst_conn.dispose()"
   ]
  }
 ],
 "metadata": {
  "language_info": {
   "name": "python"
  }
 },
 "nbformat": 4,
 "nbformat_minor": 5
}
